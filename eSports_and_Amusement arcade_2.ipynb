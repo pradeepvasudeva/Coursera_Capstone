{
 "cells": [
  {
   "cell_type": "markdown",
   "metadata": {},
   "source": [
    "# The Battle of the Neighborhoods - Week 1 Part 1"
   ]
  },
  {
   "cell_type": "markdown",
   "metadata": {},
   "source": [
    "## 1.\tIntroduction & Business Problem :"
   ]
  },
  {
   "cell_type": "markdown",
   "metadata": {},
   "source": [
    "### 1.1.\tBackground"
   ]
  },
  {
   "cell_type": "markdown",
   "metadata": {},
   "source": [
    "Esports (also known as electronic sports, e-sports, or eSports) is a form of competition using video games. Most commonly, esports takes the form of organized, multiplayer video game competitions, particularly between professional players, individually or as teams. Although organized online and offline competitions have long been a part of video game culture, these were largely between amateurs until the late 2000s, when participation by professional gamers and spectatorship in these events through live streaming saw a large surge in popularity. By the 2010s, esports was a significant factor in the video game industry.\n",
    "\n",
    "An amusement arcade (often referred to as \"video arcade\" or simply \"arcade\") is a venue where people play arcade games such as video games, pinball machines, electro-mechanical games, redemption games, merchandisers (such as claw cranes), or coin-operated billiards or air hockey tables. In some countries, some types of arcades are also legally permitted to provide gambling machines such as slot machines or pachinko machines. Games are usually housed in cabinets.\n",
    "\n",
    "A startup having plans to setup  eSports and Amusement arcades chain in India. As pilot project they are looking for the best location in India to start their first eSports and Amusement arcade. This information can be used to find the location of interest to setup eSports and Amusement arcades.\n"
   ]
  },
  {
   "cell_type": "markdown",
   "metadata": {},
   "source": [
    "### 1.2.\tProblem"
   ]
  },
  {
   "cell_type": "markdown",
   "metadata": {},
   "source": [
    "Data that might contribute to find the place may include cities in Indian states, details of local restaurant, pub, café, theater, and many more popular places etc. The stakeholders of startup organization are having trouble to identify the city and location based on population, per capita income of state and nearby venues to select best possible location for pilot project. Also, to use the same information with data to go for future rounds of funding. This project aims to find the best city in India and best place in the city to setup eSports and Amusement arcades."
   ]
  },
  {
   "cell_type": "markdown",
   "metadata": {},
   "source": [
    "### 1.3.\tInterest"
   ]
  },
  {
   "cell_type": "markdown",
   "metadata": {},
   "source": [
    "Obviously, Startup firm would be very interested to find the most suitable city and location to have the first eSports and Amusement setup for competitive advantage, growth, returns and business values. Others who are interested in eSports or Amusement arcades may also be interested. "
   ]
  },
  {
   "cell_type": "markdown",
   "metadata": {},
   "source": [
    "# The Battle of the Neighborhoods - Week 1 Part 2"
   ]
  },
  {
   "cell_type": "markdown",
   "metadata": {},
   "source": [
    "## 2.\tData Acquisition and Cleaning"
   ]
  },
  {
   "cell_type": "markdown",
   "metadata": {},
   "source": [
    "### 2.1.\tData Source"
   ]
  },
  {
   "cell_type": "markdown",
   "metadata": {},
   "source": [
    "The city and state or union territory list can be found in Wikipedia page List of million-plus urban agglomerations in India. The per-capita income for the state or union territory list can be found in Wikipedia page list of Indian states and union territories by GDP per capita. for location data and geographical location coordinates are obtained by leveraging foursquare location data to compare, visualize, explore cities, places of interest, venues and other relevant information. "
   ]
  },
  {
   "cell_type": "markdown",
   "metadata": {},
   "source": [
    "https://en.wikipedia.org/wiki/List_of_million-plus_urban_agglomerations_in_India\n",
    "\n",
    "https://en.wikipedia.org/wiki/List_of_Indian_states_and_union_territories_by_GDP_per_capita\n"
   ]
  },
  {
   "cell_type": "markdown",
   "metadata": {},
   "source": [
    "### 2.2.\tData Cleaning"
   ]
  },
  {
   "cell_type": "markdown",
   "metadata": {},
   "source": [
    "Data scraped from multiple Wikipedia pages. There several problems encountered during scraping pages, First the column name of city was mentioned as UA. This was cleaned by naming the column with heading ‘City’.\n",
    "\n",
    "Second The population figures of cities in Kerala are inflated as the definition of urban agglomeration was revised in the 2011 census. The population of urban agglomerations in Kerala is not comparable with other cities in the country. However, for Kerala state cities the available information on the Wiki page is used for this project. \n",
    "\n",
    "Third there were two population columns with Column names as Population (2011) and Population (2001). By verifying more information, it is found that the population figures of 2011 were latest and are retrieved in 14 December 2014. Hence 2011 Population is considered for the project. The details for the same can be found below. \"India: Major Agglomerations\". .citypopulation.de. Archived from the original on 17 December 2014. Retrieved 14 December 2014\n",
    "\n",
    "After fixing these problems it is found that the cities Hyderabad and Visakhapatnam had super imposed numbers which was addressed by dropping those cities from consideration to avoid program error during calculations.\n",
    "\n",
    "Luckily there were no missing values, but there were unnecessary data such as per capita PPP, Comparable country by GDP per capita which are of no use for the project hence those were cleaned by dropping the respective columns. \n"
   ]
  },
  {
   "cell_type": "markdown",
   "metadata": {},
   "source": [
    "http://www.citypopulation.de/India-Agglo.html\n",
    "\n",
    "https://web.archive.org/web/20141217011539/http:/citypopulation.de/India-Agglo.html"
   ]
  },
  {
   "cell_type": "markdown",
   "metadata": {},
   "source": [
    "### 2.3.\tFeature Selection"
   ]
  },
  {
   "cell_type": "markdown",
   "metadata": {},
   "source": [
    "After data cleaning. There were 51 cities and 24 states or union territories. After examining the data, the rank, City, Population and State per capita income was considered for the project. Using the details, the Venues are obtained using foursquare location data and the weights for unique Venues were randomly assigned for the purpose of calculations."
   ]
  },
  {
   "cell_type": "markdown",
   "metadata": {},
   "source": [
    "Table 1. Simple feature selection during data cleaning"
   ]
  },
  {
   "cell_type": "markdown",
   "metadata": {},
   "source": [
    "| Kept features  |Dropped features|Reason for dropping features|\n",
    "| ------------- |:--------------:| ----------------:|\n",
    "|State union Territory|Data year |Data year is the year on which the per capita income was calculated, it is of no use    |\n",
    "|Population (2011)|Per capita PPP |This is IMF PPP Conversion rate hence it is dropped|\n",
    "|Population (2001)|Comparable country by DGP per capita|We were interested in knowing the states of India per capita income hence the comparable country was dropped|\n",
    "|Rank|\n",
    "|Per capita income|\n",
    "|Per capita income State or union territory|"
   ]
  },
  {
   "cell_type": "markdown",
   "metadata": {},
   "source": [
    "## 3.\tExploratory Data Analysis"
   ]
  },
  {
   "cell_type": "markdown",
   "metadata": {},
   "source": [
    "### 3.1.\tFinding the Location"
   ]
  },
  {
   "cell_type": "markdown",
   "metadata": {},
   "source": [
    "Finding location among the 53 top India cities with available data was not straight forward, with the scraped data all the Indian cities were visualized for geographical locations for possible visual information. Find below the Map of India."
   ]
  },
  {
   "cell_type": "markdown",
   "metadata": {},
   "source": [
    "Map of Indi geographical locations (Cities)"
   ]
  },
  {
   "cell_type": "markdown",
   "metadata": {},
   "source": [
    "Population and weights were visualized to find some interesting information such that there almost 8-10 cities with huge population. One of these may a prospect for the project and some may be considered for future. Find below the box plot."
   ]
  },
  {
   "cell_type": "markdown",
   "metadata": {},
   "source": [
    "Box Plot – Population 2011 v/s weights "
   ]
  },
  {
   "cell_type": "markdown",
   "metadata": {},
   "source": [
    "The location weight is at high with average city population and the weight of the location is really low when the city population is either very high or low. This may be good information for future. Find below scatter plot.\n",
    "\n"
   ]
  },
  {
   "cell_type": "markdown",
   "metadata": {},
   "source": [
    "Scatter plot Population v/s weights"
   ]
  },
  {
   "cell_type": "markdown",
   "metadata": {},
   "source": [
    "By visualization the Model selected City shows that the area covered by venues is large and almost all parts of Mumbai has good number of popular venues which makes it crucial to analyze the data and find best suitable place for eSports and Amusement Arcade"
   ]
  },
  {
   "cell_type": "markdown",
   "metadata": {},
   "source": [
    "Map of Mumbai City by Venue Categories "
   ]
  },
  {
   "cell_type": "code",
   "execution_count": null,
   "metadata": {},
   "outputs": [],
   "source": []
  },
  {
   "cell_type": "code",
   "execution_count": null,
   "metadata": {},
   "outputs": [],
   "source": []
  },
  {
   "cell_type": "code",
   "execution_count": null,
   "metadata": {},
   "outputs": [],
   "source": []
  },
  {
   "cell_type": "code",
   "execution_count": null,
   "metadata": {},
   "outputs": [],
   "source": []
  }
 ],
 "metadata": {
  "kernelspec": {
   "display_name": "Python 3",
   "language": "python",
   "name": "python3"
  },
  "language_info": {
   "codemirror_mode": {
    "name": "ipython",
    "version": 3
   },
   "file_extension": ".py",
   "mimetype": "text/x-python",
   "name": "python",
   "nbconvert_exporter": "python",
   "pygments_lexer": "ipython3",
   "version": "3.7.2"
  }
 },
 "nbformat": 4,
 "nbformat_minor": 2
}
