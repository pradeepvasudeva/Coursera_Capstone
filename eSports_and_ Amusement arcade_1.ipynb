{
 "cells": [
  {
   "cell_type": "markdown",
   "metadata": {},
   "source": [
    "# The Battle of the Neighborhoods - Week 1"
   ]
  },
  {
   "cell_type": "markdown",
   "metadata": {},
   "source": [
    "## 1.\tIntroduction & Business Problem :"
   ]
  },
  {
   "cell_type": "markdown",
   "metadata": {},
   "source": [
    "### 1.1.\tBackground"
   ]
  },
  {
   "cell_type": "markdown",
   "metadata": {},
   "source": [
    "Esports (also known as electronic sports, e-sports, or eSports) is a form of competition using video games. Most commonly, esports takes the form of organized, multiplayer video game competitions, particularly between professional players, individually or as teams. Although organized online and offline competitions have long been a part of video game culture, these were largely between amateurs until the late 2000s, when participation by professional gamers and spectatorship in these events through live streaming saw a large surge in popularity. By the 2010s, esports was a significant factor in the video game industry.\n",
    "\n",
    "An amusement arcade (often referred to as \"video arcade\" or simply \"arcade\") is a venue where people play arcade games such as video games, pinball machines, electro-mechanical games, redemption games, merchandisers (such as claw cranes), or coin-operated billiards or air hockey tables. In some countries, some types of arcades are also legally permitted to provide gambling machines such as slot machines or pachinko machines. Games are usually housed in cabinets.\n",
    "\n",
    "A startup having plans to setup  eSports and Amusement arcades chain in India. As pilot project they are looking for the best location in India to start their first eSports and Amusement arcade. This information can be used to find the location of interest to setup eSports and Amusement arcades.\n"
   ]
  },
  {
   "cell_type": "markdown",
   "metadata": {},
   "source": [
    "### 1.2.\tProblem"
   ]
  },
  {
   "cell_type": "markdown",
   "metadata": {},
   "source": [
    "Data that might contribute to find the place may include cities in Indian states, details of local restaurant, pub, café, theater, and many more popular places etc. The stakeholders of startup organization are having trouble to identify the city and location based on population, per capita income of state and nearby venues to select best possible location for pilot project. Also, to use the same information with data to go for future rounds of funding. This project aims to find the best city in India and best place in the city to setup eSports and Amusement arcades."
   ]
  },
  {
   "cell_type": "markdown",
   "metadata": {},
   "source": [
    "### 1.3.\tInterest"
   ]
  },
  {
   "cell_type": "markdown",
   "metadata": {},
   "source": [
    "Obviously, Startup firm would be very interested to find the most suitable city and location to have the first eSports and Amusement setup for competitive advantage, growth, returns and business values. Others who are interested in eSports or Amusement arcades may also be interested. "
   ]
  }
 ],
 "metadata": {
  "kernelspec": {
   "display_name": "Python 3",
   "language": "python",
   "name": "python3"
  },
  "language_info": {
   "codemirror_mode": {
    "name": "ipython",
    "version": 3
   },
   "file_extension": ".py",
   "mimetype": "text/x-python",
   "name": "python",
   "nbconvert_exporter": "python",
   "pygments_lexer": "ipython3",
   "version": "3.6.8"
  }
 },
 "nbformat": 4,
 "nbformat_minor": 2
}
